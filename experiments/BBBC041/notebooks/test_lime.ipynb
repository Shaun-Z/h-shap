{
 "cells": [
  {
   "cell_type": "code",
   "execution_count": null,
   "metadata": {},
   "outputs": [],
   "source": [
    "import os\n",
    "import torch\n",
    "import torch.nn as nn\n",
    "import torch.nn.functional as F\n",
    "import numpy as np\n",
    "import matplotlib.pyplot as plt\n",
    "from torchvision import transforms\n",
    "from lime import lime_image\n",
    "from lime.wrappers.scikit_image import SegmentationAlgorithm\n",
    "from PIL import Image\n",
    "from skimage.segmentation import mark_boundaries\n",
    "\n",
    "os.environ[\"CUDA_VISIBLE_DEVICES\"] = \"2\"\n",
    "device = torch.device(\"cuda:0\" if torch.cuda.is_available() else \"cpu\")\n",
    "\n",
    "root_dir = \"../\"\n",
    "data_dir = os.path.join(root_dir, \"data\")\n",
    "model_dir = os.path.join(root_dir, \"pretrained_model\")\n",
    "explanation_dir = os.path.join(root_dir, \"explanations\")\n",
    "\n",
    "torch.backends.cudnn.deterministic = True\n",
    "torch.backends.cudnn.benchmark = False\n",
    "\n",
    "model = torch.hub.load(\"pytorch/vision:v0.10.0\", \"resnet18\", pretrained=False)\n",
    "num_ftrs = model.fc.in_features\n",
    "model.fc = nn.Linear(num_ftrs, 2)\n",
    "model = model.to(device)\n",
    "model.load_state_dict(\n",
    "    torch.load(os.path.join(model_dir, \"model.pt\"), map_location=device)\n",
    ")\n",
    "model.to(device)\n",
    "model.eval()\n",
    "x = torch.randn(1, 3, 1200, 1600, device=device)\n",
    "model(x)\n",
    "torch.cuda.empty_cache()\n",
    "\n",
    "mean = torch.tensor([0.485, 0.456, 0.406])\n",
    "std = torch.tensor([0.229, 0.224, 0.225])\n",
    "transform = transforms.Compose(\n",
    "    [transforms.ToTensor(), transforms.Normalize(mean=mean, std=std)]\n",
    ")"
   ]
  },
  {
   "cell_type": "code",
   "execution_count": null,
   "metadata": {},
   "outputs": [],
   "source": [
    "limexp = lime_image.LimeImageExplainer()\n",
    "\n",
    "\n",
    "def f(x):\n",
    "    x = torch.stack(tuple(transform(i) for i in x), dim=0)\n",
    "    x = x.to(device)\n",
    "    output = model(x)\n",
    "    p = F.softmax(output, dim=1)\n",
    "    return p.detach().cpu().numpy()"
   ]
  },
  {
   "cell_type": "code",
   "execution_count": null,
   "metadata": {},
   "outputs": [],
   "source": [
    "true_positives = np.load(os.path.join(explanation_dir, \"true_positive.npy\"))\n",
    "\n",
    "for i, image_path in enumerate(true_positives[[0]]):\n",
    "    image_name = os.path.basename(image_path).split(\".\")[0]\n",
    "    image = Image.open(os.path.join(root_dir, image_path))\n",
    "    image_rgb = image.convert(\"RGB\")\n",
    "\n",
    "    image = np.array(image_rgb)\n",
    "    segmentation_fn = SegmentationAlgorithm(\n",
    "        \"quickshift\", kernel_size=4, max_dist=200, ratio=0.2\n",
    "    )\n",
    "    segments = segmentation_fn(image)\n",
    "    plt.imshow(mark_boundaries(image, segments))\n",
    "    plt.show()\n",
    "\n",
    "    explanation = limexp.explain_instance(\n",
    "        image, f, top_labels=1, num_samples=200, segmentation_fn=segmentation_fn\n",
    "    )\n",
    "    _, explanation = explanation.get_image_and_mask(\n",
    "        explanation.top_labels[0], positive_only=True, num_features=50, hide_rest=False\n",
    "    )\n",
    "    _max = np.amax(np.abs(explanation.flatten()))\n",
    "    plt.imshow(image)\n",
    "    plt.imshow(explanation, cmap=\"bwr\", alpha=0.5, vmin=-_max, vmax=_max)\n",
    "    plt.show()\n",
    "    plt.imshow(explanation > 0, cmap=\"bwr\", alpha=0.5)\n",
    "    plt.show()\n",
    "    break"
   ]
  },
  {
   "cell_type": "code",
   "execution_count": null,
   "metadata": {},
   "outputs": [],
   "source": []
  }
 ],
 "metadata": {
  "interpreter": {
   "hash": "b8833b0dbfb768408749f2ba8903da4aba400bf749cee87b409b014590f5cb3c"
  },
  "kernelspec": {
   "display_name": "Python 3.8.12 64-bit ('hshap': conda)",
   "language": "python",
   "name": "python3"
  },
  "language_info": {
   "codemirror_mode": {
    "name": "ipython",
    "version": 3
   },
   "file_extension": ".py",
   "mimetype": "text/x-python",
   "name": "python",
   "nbconvert_exporter": "python",
   "pygments_lexer": "ipython3",
   "version": "3.8.12"
  },
  "orig_nbformat": 4
 },
 "nbformat": 4,
 "nbformat_minor": 2
}
