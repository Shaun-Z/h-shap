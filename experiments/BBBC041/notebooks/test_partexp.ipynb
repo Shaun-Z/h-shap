{
 "cells": [
  {
   "cell_type": "code",
   "execution_count": null,
   "metadata": {},
   "outputs": [],
   "source": [
    "import os\n",
    "import torch\n",
    "import torch.nn as nn\n",
    "import shap\n",
    "import numpy as np\n",
    "import matplotlib.pyplot as plt\n",
    "from torchvision import transforms\n",
    "from PIL import Image\n",
    "\n",
    "os.environ[\"CUDA_VISIBLE_DEVICES\"] = \"2\"\n",
    "device = torch.device(\"cuda:0\" if torch.cuda.is_available() else \"cpu\")\n",
    "\n",
    "root_dir = \"../\"\n",
    "data_dir = os.path.join(root_dir, \"data\")\n",
    "model_dir = os.path.join(root_dir, \"pretrained_model\")\n",
    "explanation_dir = os.path.join(root_dir, \"explanations\")\n",
    "\n",
    "torch.backends.cudnn.deterministic = True\n",
    "torch.backends.cudnn.benchmark = False\n",
    "\n",
    "model = torch.hub.load(\"pytorch/vision:v0.10.0\", \"resnet18\", pretrained=False)\n",
    "num_ftrs = model.fc.in_features\n",
    "model.fc = nn.Linear(num_ftrs, 2)\n",
    "model = model.to(device)\n",
    "model.load_state_dict(\n",
    "    torch.load(os.path.join(model_dir, \"model.pt\"), map_location=device)\n",
    ")\n",
    "model.to(device)\n",
    "model.eval()\n",
    "x = torch.randn(1, 3, 1200, 1600, device=device)\n",
    "model(x)\n",
    "torch.cuda.empty_cache()\n",
    "\n",
    "mean = torch.tensor([0.485, 0.456, 0.406])\n",
    "std = torch.tensor([0.229, 0.224, 0.225])\n",
    "transform = transforms.Compose(\n",
    "    [transforms.ToTensor(), transforms.Normalize(mean=mean, std=std)]\n",
    ")\n",
    "\n",
    "print(f\"Running shap version {shap.__version__}\")"
   ]
  },
  {
   "cell_type": "code",
   "execution_count": null,
   "metadata": {},
   "outputs": [],
   "source": [
    "ref = torch.load(os.path.join(explanation_dir, \"reference.pt\"))\n",
    "ref = ref.permute(1, 2, 0)\n",
    "ref = ref.numpy()\n",
    "masker = shap.maskers.Image(ref)\n",
    "\n",
    "\n",
    "def f(x):\n",
    "    x = torch.tensor(x).float()\n",
    "    x = x.permute(0, 3, 1, 2)\n",
    "    x = x.to(device)\n",
    "    return model(x).detach().cpu().numpy()[..., -1]\n",
    "\n",
    "\n",
    "partexp = shap.Explainer(f, masker)"
   ]
  },
  {
   "cell_type": "code",
   "execution_count": null,
   "metadata": {},
   "outputs": [],
   "source": [
    "true_positives = np.load(os.path.join(explanation_dir, \"true_positive.npy\"))\n",
    "\n",
    "for i, image_path in enumerate(true_positives[[0]]):\n",
    "    image_name = os.path.basename(image_path).split(\".\")[0]\n",
    "    image = Image.open(os.path.join(root_dir, image_path))\n",
    "    image_t = transform(image)\n",
    "    image_np = image_t.permute(1, 2, 0).numpy()\n",
    "    explanation = partexp(\n",
    "        np.expand_dims(image_np, axis=0), max_evals=500, fixed_context=0\n",
    "    )\n",
    "\n",
    "    explanation = explanation.values[0].sum(axis=-1)\n",
    "    _max = np.amax(np.abs(explanation.flatten()))\n",
    "    plt.imshow(image)\n",
    "    plt.imshow(explanation, cmap=\"bwr\", alpha=0.5, vmin=-_max, vmax=_max)\n",
    "    plt.show()\n",
    "    plt.imshow(image)\n",
    "    plt.imshow(explanation > 0, cmap=\"bwr\", alpha=0.5)\n",
    "    plt.show()\n",
    "    break"
   ]
  },
  {
   "cell_type": "code",
   "execution_count": null,
   "metadata": {},
   "outputs": [],
   "source": []
  }
 ],
 "metadata": {
  "interpreter": {
   "hash": "b8833b0dbfb768408749f2ba8903da4aba400bf749cee87b409b014590f5cb3c"
  },
  "kernelspec": {
   "display_name": "Python 3.8.12 64-bit ('hshap': conda)",
   "language": "python",
   "name": "python3"
  },
  "language_info": {
   "codemirror_mode": {
    "name": "ipython",
    "version": 3
   },
   "file_extension": ".py",
   "mimetype": "text/x-python",
   "name": "python",
   "nbconvert_exporter": "python",
   "pygments_lexer": "ipython3",
   "version": "3.8.12"
  },
  "orig_nbformat": 4
 },
 "nbformat": 4,
 "nbformat_minor": 2
}
