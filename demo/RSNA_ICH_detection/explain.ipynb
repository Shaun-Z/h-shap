{
 "cells": [
  {
   "cell_type": "markdown",
   "metadata": {},
   "source": [
    "# Explaining the Predictions of a Convolutional Neural Network on Head CT Images\n",
    "\n",
    "## Task\n",
    "\n",
    "Explain the predictions of a Convolutional Neural Network (CNN) trained to predict the presence of intracranial hemorrhage on the RSNA 2019 Brain CT Hemorrhage Challenge dataset. Data is publicly available at [https://www.kaggle.com/competitions/rsna-intracranial-hemorrhage-detection/data](https://www.kaggle.com/competitions/rsna-intracranial-hemorrhage-detection/data).\n",
    "\n",
    "## Requirements\n",
    "\n",
    "1. Basic understanding of machine learning and deep learning.\n",
    "2. Programming in Python.\n",
    "\n",
    "## Learning objectives\n",
    "\n",
    "1. Load a pre-trained classifier in PyTorch.\n",
    "2. Use the classifier to predict the presence of hemorrhage in test images.\n",
    "3. Explain the predictions of the classifier to detect intracranial hemorrhage.\n",
    "\n",
    "## Acknowledgements\n",
    "\n",
    "This Jupyter Notebook was based on code by Jacopo Teneggi ([jtenegg1@jhu.edu](mailto:jtenegg1@jhu.edu))."
   ]
  },
  {
   "cell_type": "markdown",
   "metadata": {},
   "source": [
    "## Load the pretrained model\n",
    "\n",
    "This step requires PyTorch. Follow the instructions at [https://pytorch.org/get-started/locally/](https://pytorch.org/get-started/locally/) to install PyTorch. Note that, although not required, this Jupyter Notebook supports execution on a GPU."
   ]
  },
  {
   "cell_type": "code",
   "execution_count": null,
   "metadata": {},
   "outputs": [],
   "source": [
    "import torch\n",
    "\n",
    "device = torch.device(\"cuda\" if torch.cuda.is_available() else \"cpu\")\n",
    "\n",
    "torch.set_grad_enabled(False)\n",
    "model = torch.hub.load(\n",
    "    \"Sulam-Group/h-shap:jaco/siim-ml-tutorial\",\n",
    "    \"rsnahemorrhagenet\",\n",
    "    pretrained=True,\n",
    "    trust_repo=\"check\",\n",
    ")\n",
    "model = model.to(device)\n",
    "model.eval()"
   ]
  },
  {
   "cell_type": "markdown",
   "metadata": {},
   "source": [
    "## Use the Model to Predict on Images"
   ]
  },
  {
   "cell_type": "code",
   "execution_count": null,
   "metadata": {},
   "outputs": [],
   "source": [
    "import io\n",
    "import requests as req\n",
    "import pandas as pd\n",
    "import numpy as np\n",
    "import matplotlib.pyplot as plt\n",
    "from tqdm import tqdm\n",
    "\n",
    "\n",
    "def download(url: str) -> io.BytesIO:\n",
    "    res = req.get(url)\n",
    "    res.raise_for_status()\n",
    "    return io.BytesIO(res.content)\n",
    "\n",
    "\n",
    "def window(img: np.ndarray, WL: int, WW: int) -> np.ndarray:\n",
    "    image_min = WL - WW // 2\n",
    "    image_max = WL + WW // 2\n",
    "    img[img < image_min] = image_min\n",
    "    img[img > image_max] = image_max\n",
    "\n",
    "    img = (img - image_min) / (image_max - image_min)\n",
    "\n",
    "    return img\n",
    "\n",
    "\n",
    "# Download images and ground truth annotations\n",
    "urls = [\n",
    "    \"https://github.com/Sulam-Group/h-shap/blob/jaco/siim-ml-tutorial/demo/RSNA_ICH_detection/images/1.2.276.0.7230010.3.1.4.296485376.1.1521713007.1700822.npy?raw=true\",\n",
    "    \"https://github.com/Sulam-Group/h-shap/blob/jaco/siim-ml-tutorial/demo/RSNA_ICH_detection/images/1.2.276.0.7230010.3.1.4.296485376.1.1521713021.1704518.npy?raw=true\",\n",
    "    \"https://github.com/Sulam-Group/h-shap/blob/jaco/siim-ml-tutorial/demo/RSNA_ICH_detection/images/1.2.276.0.7230010.3.1.4.296485376.1.1521713469.1816851.npy?raw=true\",\n",
    "    \"https://github.com/Sulam-Group/h-shap/blob/jaco/siim-ml-tutorial/demo/RSNA_ICH_detection/images/1.2.276.0.7230010.3.1.4.296485376.1.1521713940.1946656.npy?raw=true\",\n",
    "]\n",
    "images = np.stack([window(np.load(download(u)), WL=40, WW=80) for u in tqdm(urls)])\n",
    "\n",
    "\n",
    "# Visualize images\n",
    "_, axes = plt.subplots(1, len(images), figsize=(16, 9))\n",
    "for i in range(len(images)):\n",
    "    ax = axes[i]\n",
    "    ax.imshow(images[i], cmap=\"gray\")\n",
    "    ax.axis(\"off\")\n",
    "plt.show()"
   ]
  },
  {
   "cell_type": "code",
   "execution_count": null,
   "metadata": {},
   "outputs": [],
   "source": []
  }
 ],
 "metadata": {
  "kernelspec": {
   "display_name": "Python 3.10.4 ('cuda102')",
   "language": "python",
   "name": "python3"
  },
  "language_info": {
   "codemirror_mode": {
    "name": "ipython",
    "version": 3
   },
   "file_extension": ".py",
   "mimetype": "text/x-python",
   "name": "python",
   "nbconvert_exporter": "python",
   "pygments_lexer": "ipython3",
   "version": "3.10.4"
  },
  "vscode": {
   "interpreter": {
    "hash": "bd8c972ecb72e669b05b9af0bbaad01a2103da39053b5ad2ceb924e75319f022"
   }
  }
 },
 "nbformat": 4,
 "nbformat_minor": 2
}
